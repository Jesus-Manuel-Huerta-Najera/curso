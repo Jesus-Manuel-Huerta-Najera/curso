{
  "nbformat": 4,
  "nbformat_minor": 0,
  "metadata": {
    "colab": {
      "name": "CursoIA.ipynb",
      "provenance": [],
      "authorship_tag": "ABX9TyOOleLBSL9qUxTTcmkfmVaJ",
      "include_colab_link": true
    },
    "kernelspec": {
      "name": "python3",
      "display_name": "Python 3"
    },
    "language_info": {
      "name": "python"
    }
  },
  "cells": [
    {
      "cell_type": "markdown",
      "metadata": {
        "id": "view-in-github",
        "colab_type": "text"
      },
      "source": [
        "<a href=\"https://colab.research.google.com/github/Jesus-Manuel-Huerta-Najera/curso/blob/main/CursoIA.ipynb\" target=\"_parent\"><img src=\"https://colab.research.google.com/assets/colab-badge.svg\" alt=\"Open In Colab\"/></a>"
      ]
    },
    {
      "cell_type": "markdown",
      "metadata": {
        "id": "aQ1K-ZDvstBP"
      },
      "source": [
        "# **Jesus Manuel Huerta Najera IDGS91 03/10/2021**"
      ]
    },
    {
      "cell_type": "markdown",
      "metadata": {
        "id": "dnOxKIxpqute"
      },
      "source": [
        "**Primeros pasos-\"introducción\"**"
      ]
    },
    {
      "cell_type": "markdown",
      "metadata": {
        "id": "GwsS0mNUrbFV"
      },
      "source": [
        "\n",
        "\n",
        "Como era de esperar, el papel de un científico de datos implica principalmente explorar y analizar datos. Los resultados de un análisis pueden formar la base de un informe o un modelo de aprendizaje automático, pero todo comienza con los datos, siendo Python el lenguaje de programación más popular para los científicos de datos.\n",
        "\n",
        "Después de décadas de desarrollo de código abierto, Python proporciona una amplia funcionalidad con potentes bibliotecas estadísticas y numéricas:\n",
        "\n",
        "NumPy y Pandas simplifican el análisis y la manipulación de datos\n",
        "Matplotlib proporciona visualizaciones de datos atractivas\n",
        "Scikit-learn ofrece un análisis de datos predictivo simple y efectivo\n",
        "TensorFlow y PyTorch ofrecen capacidades de aprendizaje automático y aprendizaje profundo\n",
        "Por lo general, un proyecto de análisis de datos está diseñado para establecer conocimientos sobre un escenario particular o para probar una hipótesis.\n",
        "\n",
        "Por ejemplo, supongamos que un profesor universitario recopila datos de sus estudiantes, incluido el número de conferencias a las que asistieron, las horas dedicadas al estudio y la calificación final obtenida en el examen de fin de trimestre. El profesor podría analizar los datos para determinar si existe una relación entre la cantidad de estudios que realiza un alumno y la nota final que obtiene. El profesor podría usar los datos para probar la hipótesis de que solo los estudiantes que estudian durante un número mínimo de horas pueden esperar obtener una calificación aprobatoria.\n"
      ]
    },
    {
      "cell_type": "markdown",
      "metadata": {
        "id": "GbDESO8ar3G8"
      },
      "source": [
        "**Explore datos con NumPy y Pandas**"
      ]
    },
    {
      "cell_type": "markdown",
      "metadata": {
        "id": "t7ULrNgBsi17"
      },
      "source": [
        "Los científicos de datos pueden utilizar diversas herramientas y técnicas para explorar, visualizar y manipular datos. Una de las formas más comunes en las que los científicos de datos trabajan con datos es utilizar el lenguaje Python y algunos paquetes específicos para el procesamiento de datos.\n",
        "\n",
        "¿Qué es NumPy?\n",
        "\n",
        "NumPy es una biblioteca de Python que brinda una funcionalidad comparable a las herramientas matemáticas como MATLAB y R. Si bien NumPy simplifica significativamente la experiencia del usuario, también ofrece funciones matemáticas integrales.\n",
        "\n",
        "¿Qué son los pandas?\n",
        "\n",
        "Pandas es una biblioteca de Python extremadamente popular para el análisis y la manipulación de datos. Pandas es como Excel para Python: proporciona una funcionalidad fácil de usar para tablas de datos.\n",
        "\n",
        "Explore los datos en un cuaderno de Jupyter\n",
        "\n",
        "Los cuadernos de Jupyter son una forma popular de ejecutar scripts básicos con su navegador web. Por lo general, estos cuadernos son una sola página web, dividida en secciones de texto y secciones de código que se ejecutan en el servidor en lugar de en su máquina local. Esto significa que puede comenzar rápidamente sin necesidad de instalar Python u otras herramientas.\n",
        "\n",
        "Prueba de hipótesis\n",
        "\n",
        "La exploración y el análisis de datos suele ser un proceso iterativo, en el que el científico de datos toma una muestra de datos y realiza los siguientes tipos de tareas para analizarlos y probar hipótesis:\n",
        "\n",
        "Limpiar datos para manejar errores, valores perdidos y otros problemas.\n",
        "Aplicar técnicas estadísticas para comprender mejor los datos y cómo se puede esperar que la muestra represente la población de datos del mundo real, lo que permite una variación aleatoria.\n",
        "Visualice los datos para determinar las relaciones entre las variables y, en el caso de un proyecto de aprendizaje automático, identifique las características que son potencialmente predictivas de la etiqueta.\n",
        "Revise la hipótesis y repita el proceso."
      ]
    },
    {
      "cell_type": "markdown",
      "metadata": {
        "id": "eZ_QWRu-tkQ3"
      },
      "source": [
        "**Explorando datos con Python**"
      ]
    },
    {
      "cell_type": "markdown",
      "metadata": {
        "id": "n0Up9NBXt947"
      },
      "source": [
        "Una parte importante del rol de un científico de datos es explorar, analizar y visualizar datos. Existe una amplia gama de herramientas y lenguajes de programación que pueden usar para hacer esto; y uno de los enfoques más populares es usar cuadernos de Jupyter (como este) y Python.\n",
        "\n",
        "Python es un lenguaje de programación flexible que se utiliza en una amplia gama de escenarios; desde aplicaciones web hasta programación de dispositivos. Es extremadamente popular en la comunidad de ciencia de datos y aprendizaje automático debido a los muchos paquetes que admite para el análisis y la visualización de datos.\n",
        "\n",
        "En este cuaderno, exploraremos algunos de estos paquetes y aplicaremos técnicas básicas para analizar datos. No se pretende que sea un ejercicio completo de programación de Python; o incluso una inmersión profunda en el análisis de datos. Más bien, está pensado como un curso acelerado sobre algunas de las formas comunes en las que los científicos de datos pueden usar Python para trabajar con datos."
      ]
    },
    {
      "cell_type": "markdown",
      "metadata": {
        "id": "Ok3J6wVJtufz"
      },
      "source": [
        "**Explorando matrices de datos con NumPy**"
      ]
    },
    {
      "cell_type": "markdown",
      "metadata": {
        "id": "-WgGHRHruRAt"
      },
      "source": [
        "Comencemos mirando algunos datos simples. \n",
        "Suponga que una universidad toma una muestra de las calificaciones de los estudiantes para una clase de ciencia de datos. \n",
        "\n",
        "Ejecuta el código."
      ]
    },
    {
      "cell_type": "code",
      "metadata": {
        "id": "5_fHWy-Jp4zS"
      },
      "source": [
        "data = [50,50,47,97,49,3,53,42,26,74,82,62,37,15,70,27,36,35,48,52,63,64]\n",
        "print(data)"
      ],
      "execution_count": null,
      "outputs": []
    },
    {
      "cell_type": "markdown",
      "metadata": {
        "id": "kO_Tb-xeupxD"
      },
      "source": [
        "Los datos se han cargado en una estructura de lista de Python, que es un buen tipo de datos para la manipulación de datos en general, pero no está optimizado para el análisis numérico. Para eso, usaremos el paquete NumPy, que incluye funciones y tipos de datos específicos para trabajar con Numbers en Python.\n",
        "\n",
        "Ejecute la celda a continuación para cargar los datos en una matriz NumPy."
      ]
    },
    {
      "cell_type": "code",
      "metadata": {
        "id": "Da_FL--6uysf"
      },
      "source": [
        "import numpy as np\n",
        "\n",
        "grades = np.array(data)\n",
        "print(grades)"
      ],
      "execution_count": null,
      "outputs": []
    },
    {
      "cell_type": "markdown",
      "metadata": {
        "id": "IJT0CPr0vC6Z"
      },
      "source": [
        "En caso de que se esté preguntando acerca de las diferencias entre una lista y una matriz NumPy, comparemos cómo se comportan estos tipos de datos cuando los usamos en una expresión que los multiplica por 2."
      ]
    },
    {
      "cell_type": "code",
      "metadata": {
        "id": "-paNE_hFvHor"
      },
      "source": [
        "print (type(data),'x 2:', data * 2)\n",
        "print('---')\n",
        "print (type(grades),'x 2:', grades * 2)"
      ],
      "execution_count": null,
      "outputs": []
    },
    {
      "cell_type": "markdown",
      "metadata": {
        "id": "WB1ZO8fgvQgI"
      },
      "source": [
        "Tenga en cuenta que multiplicar una lista por 2 crea una nueva lista de dos veces la longitud con la secuencia original de elementos de la lista repetida. Al multiplicar una matriz NumPy, por otro lado, se realiza un cálculo por elementos en el que la matriz se comporta como un vector, por lo que terminamos con una matriz del mismo tamaño en la que cada elemento se ha multiplicado por 2.\n",
        "\n",
        "La conclusión clave de esto es que las matrices NumPy están diseñadas específicamente para admitir operaciones matemáticas en datos numéricos, lo que las hace más útiles para el análisis de datos que una lista genérica.\n",
        "\n",
        "Es posible que haya notado que el tipo de clase para la matriz numpy anterior es un numpy.ndarray. La nd indica que esta es una estructura que puede constar de múltiples dimensiones (puede tener n dimensiones). Nuestra instancia específica tiene una sola dimensión de calificaciones de los estudiantes."
      ]
    },
    {
      "cell_type": "code",
      "metadata": {
        "id": "hyFdDb0rvWqL"
      },
      "source": [
        "grades.shape"
      ],
      "execution_count": null,
      "outputs": []
    },
    {
      "cell_type": "markdown",
      "metadata": {
        "id": "Z5Jeby_SvxzC"
      },
      "source": [
        "La forma confirma que esta matriz tiene una sola dimensión, que contiene 22 elementos (hay 22 grados en la lista original). Puede acceder a los elementos individuales de la matriz por su posición ordinal basada en cero. Consigamos el primer elemento (el que está en la posición 0)."
      ]
    },
    {
      "cell_type": "code",
      "metadata": {
        "id": "VzmgZZivvzoD"
      },
      "source": [
        "grades[0]"
      ],
      "execution_count": null,
      "outputs": []
    },
    {
      "cell_type": "markdown",
      "metadata": {
        "id": "LR3pnukxv6w6"
      },
      "source": [
        "Muy bien, ahora que conoce el camino alrededor de una matriz NumPy, es hora de realizar un análisis de los datos de calificaciones.\n",
        "\n",
        "Puede aplicar agregaciones entre los elementos de la matriz, así que busquemos la calificación promedio simple (en otras palabras, el valor medio de la calificación)."
      ]
    },
    {
      "cell_type": "code",
      "metadata": {
        "id": "05E5-FeAv8Ho"
      },
      "source": [
        "grades.mean()"
      ],
      "execution_count": null,
      "outputs": []
    },
    {
      "cell_type": "markdown",
      "metadata": {
        "id": "1SyRXwojwB9K"
      },
      "source": [
        "Entonces, la nota media es de alrededor de 50, más o menos en el medio del rango posible de 0 a 100.\n",
        "\n",
        "Agreguemos un segundo conjunto de datos para los mismos estudiantes, esta vez registrando el número típico de horas por semana que dedicaron a estudiar."
      ]
    },
    {
      "cell_type": "code",
      "metadata": {
        "id": "07FsUAmJwDY8"
      },
      "source": [
        "# Define an array of study hours\n",
        "study_hours = [10.0,11.5,9.0,16.0,9.25,1.0,11.5,9.0,8.5,14.5,15.5,\n",
        "               13.75,9.0,8.0,15.5,8.0,9.0,6.0,10.0,12.0,12.5,12.0]\n",
        "\n",
        "# Create a 2D array (an array of arrays)\n",
        "student_data = np.array([study_hours, grades])\n",
        "\n",
        "# display the array\n",
        "student_data"
      ],
      "execution_count": null,
      "outputs": []
    },
    {
      "cell_type": "markdown",
      "metadata": {
        "id": "DVVfoLm3wMa4"
      },
      "source": [
        "Ahora los datos consisten en una matriz bidimensional, una matriz de matrices. Veamos su forma"
      ]
    },
    {
      "cell_type": "code",
      "metadata": {
        "id": "M1Z8iBodwN7b"
      },
      "source": [
        "# Show shape of 2D array\n",
        "student_data.shape"
      ],
      "execution_count": null,
      "outputs": []
    },
    {
      "cell_type": "markdown",
      "metadata": {
        "id": "KPadh_TpwRBy"
      },
      "source": [
        "La matriz student_data contiene dos elementos, cada uno de los cuales es una matriz que contiene 22 elementos.\n",
        "\n",
        "Para navegar por esta estructura, debe especificar la posición de cada elemento en la jerarquía. Entonces, para encontrar el primer valor en la primera matriz (que contiene los datos de las horas de estudio), puede usar el siguiente código."
      ]
    },
    {
      "cell_type": "code",
      "metadata": {
        "id": "wXPKr09IwVfV"
      },
      "source": [
        "# Show the first element of the first element\n",
        "student_data[0][0]"
      ],
      "execution_count": null,
      "outputs": []
    },
    {
      "cell_type": "markdown",
      "metadata": {
        "id": "azpr6iMewXrW"
      },
      "source": [
        "Ahora tiene una matriz multidimensional que contiene tanto el tiempo de estudio del estudiante como la información de calificaciones, que puede usar para comparar datos. Por ejemplo, ¿cómo se compara el tiempo medio de estudio con la nota media?"
      ]
    },
    {
      "cell_type": "code",
      "metadata": {
        "id": "QcO_Dk-rwgfs"
      },
      "source": [
        "# Get the mean value of each sub-array\n",
        "avg_study = student_data[0].mean()\n",
        "avg_grade = student_data[1].mean()\n",
        "\n",
        "print('Average study hours: {:.2f}\\nAverage grade: {:.2f}'.format(avg_study, avg_grade))"
      ],
      "execution_count": null,
      "outputs": []
    },
    {
      "cell_type": "markdown",
      "metadata": {
        "id": "wlxR6Z1iwoi3"
      },
      "source": [
        "**Explorando datos tabulares con Pandas**"
      ]
    },
    {
      "cell_type": "markdown",
      "metadata": {
        "id": "uDcY4APUwrn5"
      },
      "source": [
        "Si bien NumPy proporciona muchas de las funciones que necesita para trabajar con números, y específicamente matrices de valores numéricos; Cuando comienza a trabajar con tablas de datos bidimensionales, el paquete Pandas ofrece una estructura más conveniente para trabajar: el DataFrame.\n",
        "\n",
        "Ejecute la siguiente celda para importar la biblioteca Pandas y cree un DataFrame con tres columnas. La primera columna es una lista de los nombres de los estudiantes, y la segunda y tercera columnas son las matrices NumPy que contienen el tiempo de estudio y los datos de las calificaciones."
      ]
    },
    {
      "cell_type": "code",
      "metadata": {
        "colab": {
          "base_uri": "https://localhost:8080/",
          "height": 739
        },
        "id": "umkQfN_qw76x",
        "outputId": "2d2f1e7d-37aa-48dc-82d4-0d75954242bc"
      },
      "source": [
        "import pandas as pd\n",
        "\n",
        "df_students = pd.DataFrame({'Name': ['Dan', 'Joann', 'Pedro', 'Rosie', 'Ethan', 'Vicky', 'Frederic', 'Jimmie', \n",
        "                                     'Rhonda', 'Giovanni', 'Francesca', 'Rajab', 'Naiyana', 'Kian', 'Jenny',\n",
        "                                     'Jakeem','Helena','Ismat','Anila','Skye','Daniel','Aisha'],\n",
        "                            'StudyHours':student_data[0],\n",
        "                            'Grade':student_data[1]})\n",
        "\n",
        "df_students "
      ],
      "execution_count": 12,
      "outputs": [
        {
          "output_type": "execute_result",
          "data": {
            "text/html": [
              "<div>\n",
              "<style scoped>\n",
              "    .dataframe tbody tr th:only-of-type {\n",
              "        vertical-align: middle;\n",
              "    }\n",
              "\n",
              "    .dataframe tbody tr th {\n",
              "        vertical-align: top;\n",
              "    }\n",
              "\n",
              "    .dataframe thead th {\n",
              "        text-align: right;\n",
              "    }\n",
              "</style>\n",
              "<table border=\"1\" class=\"dataframe\">\n",
              "  <thead>\n",
              "    <tr style=\"text-align: right;\">\n",
              "      <th></th>\n",
              "      <th>Name</th>\n",
              "      <th>StudyHours</th>\n",
              "      <th>Grade</th>\n",
              "    </tr>\n",
              "  </thead>\n",
              "  <tbody>\n",
              "    <tr>\n",
              "      <th>0</th>\n",
              "      <td>Dan</td>\n",
              "      <td>10.00</td>\n",
              "      <td>50.0</td>\n",
              "    </tr>\n",
              "    <tr>\n",
              "      <th>1</th>\n",
              "      <td>Joann</td>\n",
              "      <td>11.50</td>\n",
              "      <td>50.0</td>\n",
              "    </tr>\n",
              "    <tr>\n",
              "      <th>2</th>\n",
              "      <td>Pedro</td>\n",
              "      <td>9.00</td>\n",
              "      <td>47.0</td>\n",
              "    </tr>\n",
              "    <tr>\n",
              "      <th>3</th>\n",
              "      <td>Rosie</td>\n",
              "      <td>16.00</td>\n",
              "      <td>97.0</td>\n",
              "    </tr>\n",
              "    <tr>\n",
              "      <th>4</th>\n",
              "      <td>Ethan</td>\n",
              "      <td>9.25</td>\n",
              "      <td>49.0</td>\n",
              "    </tr>\n",
              "    <tr>\n",
              "      <th>5</th>\n",
              "      <td>Vicky</td>\n",
              "      <td>1.00</td>\n",
              "      <td>3.0</td>\n",
              "    </tr>\n",
              "    <tr>\n",
              "      <th>6</th>\n",
              "      <td>Frederic</td>\n",
              "      <td>11.50</td>\n",
              "      <td>53.0</td>\n",
              "    </tr>\n",
              "    <tr>\n",
              "      <th>7</th>\n",
              "      <td>Jimmie</td>\n",
              "      <td>9.00</td>\n",
              "      <td>42.0</td>\n",
              "    </tr>\n",
              "    <tr>\n",
              "      <th>8</th>\n",
              "      <td>Rhonda</td>\n",
              "      <td>8.50</td>\n",
              "      <td>26.0</td>\n",
              "    </tr>\n",
              "    <tr>\n",
              "      <th>9</th>\n",
              "      <td>Giovanni</td>\n",
              "      <td>14.50</td>\n",
              "      <td>74.0</td>\n",
              "    </tr>\n",
              "    <tr>\n",
              "      <th>10</th>\n",
              "      <td>Francesca</td>\n",
              "      <td>15.50</td>\n",
              "      <td>82.0</td>\n",
              "    </tr>\n",
              "    <tr>\n",
              "      <th>11</th>\n",
              "      <td>Rajab</td>\n",
              "      <td>13.75</td>\n",
              "      <td>62.0</td>\n",
              "    </tr>\n",
              "    <tr>\n",
              "      <th>12</th>\n",
              "      <td>Naiyana</td>\n",
              "      <td>9.00</td>\n",
              "      <td>37.0</td>\n",
              "    </tr>\n",
              "    <tr>\n",
              "      <th>13</th>\n",
              "      <td>Kian</td>\n",
              "      <td>8.00</td>\n",
              "      <td>15.0</td>\n",
              "    </tr>\n",
              "    <tr>\n",
              "      <th>14</th>\n",
              "      <td>Jenny</td>\n",
              "      <td>15.50</td>\n",
              "      <td>70.0</td>\n",
              "    </tr>\n",
              "    <tr>\n",
              "      <th>15</th>\n",
              "      <td>Jakeem</td>\n",
              "      <td>8.00</td>\n",
              "      <td>27.0</td>\n",
              "    </tr>\n",
              "    <tr>\n",
              "      <th>16</th>\n",
              "      <td>Helena</td>\n",
              "      <td>9.00</td>\n",
              "      <td>36.0</td>\n",
              "    </tr>\n",
              "    <tr>\n",
              "      <th>17</th>\n",
              "      <td>Ismat</td>\n",
              "      <td>6.00</td>\n",
              "      <td>35.0</td>\n",
              "    </tr>\n",
              "    <tr>\n",
              "      <th>18</th>\n",
              "      <td>Anila</td>\n",
              "      <td>10.00</td>\n",
              "      <td>48.0</td>\n",
              "    </tr>\n",
              "    <tr>\n",
              "      <th>19</th>\n",
              "      <td>Skye</td>\n",
              "      <td>12.00</td>\n",
              "      <td>52.0</td>\n",
              "    </tr>\n",
              "    <tr>\n",
              "      <th>20</th>\n",
              "      <td>Daniel</td>\n",
              "      <td>12.50</td>\n",
              "      <td>63.0</td>\n",
              "    </tr>\n",
              "    <tr>\n",
              "      <th>21</th>\n",
              "      <td>Aisha</td>\n",
              "      <td>12.00</td>\n",
              "      <td>64.0</td>\n",
              "    </tr>\n",
              "  </tbody>\n",
              "</table>\n",
              "</div>"
            ],
            "text/plain": [
              "         Name  StudyHours  Grade\n",
              "0         Dan       10.00   50.0\n",
              "1       Joann       11.50   50.0\n",
              "2       Pedro        9.00   47.0\n",
              "3       Rosie       16.00   97.0\n",
              "4       Ethan        9.25   49.0\n",
              "5       Vicky        1.00    3.0\n",
              "6    Frederic       11.50   53.0\n",
              "7      Jimmie        9.00   42.0\n",
              "8      Rhonda        8.50   26.0\n",
              "9    Giovanni       14.50   74.0\n",
              "10  Francesca       15.50   82.0\n",
              "11      Rajab       13.75   62.0\n",
              "12    Naiyana        9.00   37.0\n",
              "13       Kian        8.00   15.0\n",
              "14      Jenny       15.50   70.0\n",
              "15     Jakeem        8.00   27.0\n",
              "16     Helena        9.00   36.0\n",
              "17      Ismat        6.00   35.0\n",
              "18      Anila       10.00   48.0\n",
              "19       Skye       12.00   52.0\n",
              "20     Daniel       12.50   63.0\n",
              "21      Aisha       12.00   64.0"
            ]
          },
          "metadata": {},
          "execution_count": 12
        }
      ]
    },
    {
      "cell_type": "markdown",
      "metadata": {
        "id": "jLo0Rl6vxD22"
      },
      "source": [
        "**Encontrar y filtrar datos en un DataFrame**"
      ]
    },
    {
      "cell_type": "markdown",
      "metadata": {
        "id": "w8QL0ntyxL1b"
      },
      "source": [
        "Puede usar el método loc de DataFrame para recuperar datos para un valor de índice específico, como este."
      ]
    },
    {
      "cell_type": "code",
      "metadata": {
        "id": "66kxDINTxP0s"
      },
      "source": [
        "# Get the data for index value 5\n",
        "df_students.loc[5]"
      ],
      "execution_count": null,
      "outputs": []
    },
    {
      "cell_type": "markdown",
      "metadata": {
        "id": "JPpw1GxyxXQr"
      },
      "source": [
        "También puede obtener los datos en un rango de valores de índice, como este:"
      ]
    },
    {
      "cell_type": "code",
      "metadata": {
        "id": "M_OvjEMZxYFC"
      },
      "source": [
        "# Get the rows with index values from 0 to 5\n",
        "df_students.loc[0:5]"
      ],
      "execution_count": null,
      "outputs": []
    },
    {
      "cell_type": "markdown",
      "metadata": {
        "id": "PTS9RGfrxhcn"
      },
      "source": [
        "Además de poder usar el método loc para buscar filas según el índice, puede usar el método iloc para buscar filas según su posición ordinal en el DataFrame (independientemente del índice):"
      ]
    },
    {
      "cell_type": "code",
      "metadata": {
        "id": "teYsYCE8xj3h"
      },
      "source": [
        "# Get data in the first five rows\n",
        "df_students.iloc[0:5]"
      ],
      "execution_count": null,
      "outputs": []
    },
    {
      "cell_type": "markdown",
      "metadata": {
        "id": "XK2yqoscxoc7"
      },
      "source": [
        "Mire cuidadosamente los resultados de iloc [0: 5] y compárelos con los resultados de loc [0: 5] que obtuvo anteriormente. ¿Puedes ver la diferencia?\n",
        "\n",
        "El método loc devolvió filas con etiqueta de índice en la lista de valores de 0 a 5, que incluye 0, 1, 2, 3, 4 y 5 (seis filas). Sin embargo, el método iloc devuelve las filas en las posiciones incluidas en el rango de 0 a 5, y dado que los rangos de números enteros no incluyen el valor del límite superior, esto incluye las posiciones 0, 1, 2, 3 y 4 (cinco filas) .\n",
        "\n",
        "iloc identifica valores de datos en un DataFrame por posición, que se extiende más allá de las filas a las columnas. Entonces, por ejemplo, puede usarlo para encontrar los valores de las columnas en las posiciones 1 y 2 en la fila 0, así:"
      ]
    },
    {
      "cell_type": "code",
      "metadata": {
        "colab": {
          "base_uri": "https://localhost:8080/"
        },
        "id": "9m4oD4WcxqEk",
        "outputId": "9aa9e272-a08c-48c7-94ac-19cc789eaf24"
      },
      "source": [
        "df_students.iloc[0,[1,2]]"
      ],
      "execution_count": 13,
      "outputs": [
        {
          "output_type": "execute_result",
          "data": {
            "text/plain": [
              "StudyHours    10\n",
              "Grade         50\n",
              "Name: 0, dtype: object"
            ]
          },
          "metadata": {},
          "execution_count": 13
        }
      ]
    },
    {
      "cell_type": "markdown",
      "metadata": {
        "id": "qha0Ciixx7Ql"
      },
      "source": [
        "Volvamos al método loc y veamos cómo funciona con columnas. Recuerde que loc se usa para ubicar elementos de datos basados en valores de índice en lugar de posiciones. En ausencia de una columna de índice explícita, las filas en nuestro marco de datos se indexan como valores enteros, pero las columnas se identifican por su nombre:"
      ]
    },
    {
      "cell_type": "code",
      "metadata": {
        "id": "tizHoWAgx8lu"
      },
      "source": [
        "df_students.loc[0,'Grade']"
      ],
      "execution_count": null,
      "outputs": []
    },
    {
      "cell_type": "markdown",
      "metadata": {
        "id": "RwmlR9xdyBbC"
      },
      "source": [
        "Aquí hay otro truco útil. Puede usar el método loc para buscar filas indexadas en función de una expresión de filtrado que haga referencia a columnas con nombre distintas del índice, como esta:"
      ]
    },
    {
      "cell_type": "code",
      "metadata": {
        "id": "WuyMOE3YyCeQ"
      },
      "source": [
        "df_students.loc[df_students['Name']=='Aisha']"
      ],
      "execution_count": null,
      "outputs": []
    },
    {
      "cell_type": "markdown",
      "metadata": {
        "id": "M2jjKe6NyJvb"
      },
      "source": [
        "En realidad, no necesita usar explícitamente el método loc para hacer esto; simplemente puede aplicar una expresión de filtrado de DataFrame, como esta:"
      ]
    },
    {
      "cell_type": "code",
      "metadata": {
        "id": "HneIdwnryKgj"
      },
      "source": [
        "df_students[df_students['Name']=='Aisha']"
      ],
      "execution_count": null,
      "outputs": []
    },
    {
      "cell_type": "markdown",
      "metadata": {
        "id": "X0RWqjNJyShR"
      },
      "source": [
        "Y en buena medida, puede lograr los mismos resultados utilizando el método de consulta de DataFrame, como este:"
      ]
    },
    {
      "cell_type": "code",
      "metadata": {
        "id": "6FRPfCHQyUTi"
      },
      "source": [
        "df_students.query('Name==\"Aisha\"')"
      ],
      "execution_count": null,
      "outputs": []
    },
    {
      "cell_type": "markdown",
      "metadata": {
        "id": "A_wR6eLCyZ5W"
      },
      "source": [
        "Los tres ejemplos anteriores subrayan una verdad ocasionalmente confusa sobre trabajar con Pandas. A menudo, hay varias formas de lograr los mismos resultados. Otro ejemplo de esto es la forma en que se refiere al nombre de una columna de DataFrame. Puede especificar el nombre de la columna como un valor de índice con nombre (como en los ejemplos de df_students ['Nombre'] que hemos visto hasta ahora), o puede usar la columna como una propiedad del DataFrame, así:"
      ]
    },
    {
      "cell_type": "code",
      "metadata": {
        "id": "Ue3rh1PoybQt"
      },
      "source": [
        "df_students[df_students.Name == 'Aisha']"
      ],
      "execution_count": null,
      "outputs": []
    },
    {
      "cell_type": "markdown",
      "metadata": {
        "id": "_owrFZsCydo_"
      },
      "source": [
        "**Cargando un DataFrame desde un archivo**"
      ]
    },
    {
      "cell_type": "markdown",
      "metadata": {
        "id": "FBKj7ftgyi98"
      },
      "source": [
        "Construimos el DataFrame a partir de algunas matrices existentes. Sin embargo, en muchos escenarios del mundo real, los datos se cargan desde fuentes como archivos. Reemplacemos el DataFrame de calificaciones de los estudiantes con el contenido de un archivo de texto."
      ]
    },
    {
      "cell_type": "code",
      "metadata": {
        "id": "b2jgRPDpyvOy"
      },
      "source": [
        "!wget https://raw.githubusercontent.com/MicrosoftDocs/mslearn-introduction-to-machine-learning/main/Data/ml-basics/grades.csv\n",
        "df_students = pd.read_csv('grades.csv',delimiter=',',header='infer')\n",
        "df_students.head()"
      ],
      "execution_count": null,
      "outputs": []
    },
    {
      "cell_type": "markdown",
      "metadata": {
        "id": "vS4nlGzIy12M"
      },
      "source": [
        "El método read_csv de DataFrame se usa para cargar datos desde archivos de texto. Como puede ver en el código de ejemplo, puede especificar opciones como el delimitador de columna y qué fila (si hay alguna) contiene encabezados de columna (en este caso, el delimitador es una coma y la primera fila contiene los nombres de columna; estos son los configuración predeterminada, por lo que los parámetros podrían haberse omitido)."
      ]
    },
    {
      "cell_type": "markdown",
      "metadata": {
        "id": "4pA1YSuqy9TZ"
      },
      "source": [
        "**Manejo de valores perdidos**"
      ]
    },
    {
      "cell_type": "markdown",
      "metadata": {
        "id": "NFm5rGx8zCTb"
      },
      "source": [
        "Uno de los problemas más comunes con los que deben lidiar los científicos de datos es la falta de datos o los datos incompletos. Entonces, ¿cómo sabríamos que el DataFrame contiene valores faltantes? Puede usar el método isnull para identificar qué valores individuales son nulos, como este:"
      ]
    },
    {
      "cell_type": "code",
      "metadata": {
        "id": "ksYgxehAzINw"
      },
      "source": [
        "df_students.isnull()"
      ],
      "execution_count": null,
      "outputs": []
    },
    {
      "cell_type": "markdown",
      "metadata": {
        "id": "rDttgNeCzRnj"
      },
      "source": [
        "Por supuesto, con un DataFrame más grande, sería ineficiente revisar todas las filas y columnas individualmente; para que podamos obtener la suma de los valores perdidos para cada columna, así:"
      ]
    },
    {
      "cell_type": "code",
      "metadata": {
        "id": "Ei3rmgnkzUMo"
      },
      "source": [
        "df_students.isnull().sum()"
      ],
      "execution_count": null,
      "outputs": []
    },
    {
      "cell_type": "markdown",
      "metadata": {
        "id": "PAfX1AsLzU5F"
      },
      "source": [
        "Ahora sabemos que falta un valor de StudyHours y dos valores de Grade que faltan.\n",
        "\n",
        "Para verlos en contexto, podemos filtrar el marco de datos para incluir solo filas donde cualquiera de las columnas (eje 1 del marco de datos) sea nula."
      ]
    },
    {
      "cell_type": "code",
      "metadata": {
        "id": "_5kIsTO1zY9Q"
      },
      "source": [
        "df_students[df_students.isnull().any(axis=1)]"
      ],
      "execution_count": null,
      "outputs": []
    },
    {
      "cell_type": "markdown",
      "metadata": {
        "id": "GUN0WT6tzgdj"
      },
      "source": [
        "Cuando se recupera el DataFrame, los valores numéricos faltantes se muestran como NaN (no como un número).\n",
        "\n",
        "Entonces, ahora que hemos encontrado los valores nulos, ¿qué podemos hacer con ellos?\n",
        "\n",
        "Un enfoque común es imputar valores de reemplazo. Por ejemplo, si falta el número de horas de estudio, podríamos simplemente asumir que el estudiante estudió durante un tiempo promedio y reemplazar el valor faltante con la media de horas de estudio. Para hacer esto, podemos usar el método fillna, así:"
      ]
    },
    {
      "cell_type": "code",
      "metadata": {
        "id": "DAicYb7Izhe8"
      },
      "source": [
        "df_students.StudyHours = df_students.StudyHours.fillna(df_students.StudyHours.mean())\n",
        "df_students"
      ],
      "execution_count": null,
      "outputs": []
    },
    {
      "cell_type": "markdown",
      "metadata": {
        "id": "GUEefe-1zmPH"
      },
      "source": [
        "Alternativamente, puede ser importante asegurarse de que solo use datos que sepa que son absolutamente correctos; para que pueda eliminar filas o columnas que contienen valores nulos mediante el método dropna. En este caso, eliminaremos filas (eje 0 del DataFrame) donde alguna de las columnas contiene valores nulos."
      ]
    },
    {
      "cell_type": "code",
      "metadata": {
        "id": "SJeATpSozpVD"
      },
      "source": [
        "df_students = df_students.dropna(axis=0, how='any')\n",
        "df_students"
      ],
      "execution_count": null,
      "outputs": []
    },
    {
      "cell_type": "markdown",
      "metadata": {
        "id": "savQNUzlzsE8"
      },
      "source": [
        "**Explore los datos en el DataFrame**"
      ]
    },
    {
      "cell_type": "markdown",
      "metadata": {
        "id": "E7askTp3zwdr"
      },
      "source": [
        "Now that we've cleaned up the missing values, we're ready to explore the data in the DataFrame. Let's start by comparing the mean study hours and grades."
      ]
    },
    {
      "cell_type": "code",
      "metadata": {
        "id": "ZjJWS0uszy41"
      },
      "source": [
        "# Get the mean study hours using to column name as an index\n",
        "mean_study = df_students['StudyHours'].mean()\n",
        "\n",
        "# Get the mean grade using the column name as a property (just to make the point!)\n",
        "mean_grade = df_students.Grade.mean()\n",
        "\n",
        "# Print the mean study hours and mean grade\n",
        "print('Average weekly study hours: {:.2f}\\nAverage grade: {:.2f}'.format(mean_study, mean_grade))"
      ],
      "execution_count": null,
      "outputs": []
    },
    {
      "cell_type": "markdown",
      "metadata": {
        "id": "JcQM4Onzz28u"
      },
      "source": [
        "De acuerdo, filtremos el DataFrame para encontrar solo los estudiantes que estudiaron por más de la cantidad de tiempo promedio."
      ]
    },
    {
      "cell_type": "code",
      "metadata": {
        "id": "vE0y-pyiz4MK"
      },
      "source": [
        "# Get students who studied for the mean or more hours\n",
        "df_students[df_students.StudyHours > mean_study]"
      ],
      "execution_count": null,
      "outputs": []
    },
    {
      "cell_type": "markdown",
      "metadata": {
        "id": "IAM-rNYAz8vs"
      },
      "source": [
        "Tenga en cuenta que el resultado filtrado es en sí mismo un DataFrame, por lo que puede trabajar con sus columnas como cualquier otro DataFrame.\n",
        "\n",
        "Por ejemplo, busquemos la calificación promedio de los estudiantes que realizaron más tiempo de estudio que el promedio."
      ]
    },
    {
      "cell_type": "code",
      "metadata": {
        "id": "vFs-fkJo0AQ1"
      },
      "source": [
        "# What was their mean grade?\n",
        "df_students[df_students.StudyHours > mean_study].Grade.mean()"
      ],
      "execution_count": null,
      "outputs": []
    },
    {
      "cell_type": "markdown",
      "metadata": {
        "id": "2AP1qXxA0DJX"
      },
      "source": [
        "Supongamos que la calificación aprobatoria del curso es 60.\n",
        "\n",
        "Podemos usar esa información para agregar una nueva columna al DataFrame, indicando si cada estudiante aprobó o no.\n",
        "\n",
        "Primero, crearemos una Serie Pandas que contiene el indicador de pasa / falla (Verdadero o Falso), y luego concatenamos esa serie como una nueva columna (eje 1) en el DataFrame."
      ]
    },
    {
      "cell_type": "code",
      "metadata": {
        "id": "7EUpB4V60FGo"
      },
      "source": [
        "passes  = pd.Series(df_students['Grade'] >= 60)\n",
        "df_students = pd.concat([df_students, passes.rename(\"Pass\")], axis=1)\n",
        "\n",
        "df_students"
      ],
      "execution_count": null,
      "outputs": []
    },
    {
      "cell_type": "markdown",
      "metadata": {
        "id": "UqWNIdgZ0IB4"
      },
      "source": [
        "Los DataFrames están diseñados para datos tabulares y puede utilizarlos para realizar muchos de los tipos de operaciones de análisis de datos que puede realizar en una base de datos relacional; como agrupar y agregar tablas de datos.\n",
        "\n",
        "Por ejemplo, puede usar el método groupby para agrupar los datos de los estudiantes en grupos según la columna de Aprobado que agregó anteriormente y contar el número de nombres en cada grupo; en otras palabras, puede determinar cuántos estudiantes aprobaron y reprobaron."
      ]
    },
    {
      "cell_type": "code",
      "metadata": {
        "id": "taZNkng10J80"
      },
      "source": [
        "print(df_students.groupby(df_students.Pass).Name.count())"
      ],
      "execution_count": null,
      "outputs": []
    },
    {
      "cell_type": "markdown",
      "metadata": {
        "id": "VGpRLv6P0Mzj"
      },
      "source": [
        "Puede agregar varios campos en un grupo utilizando cualquier función de agregación disponible. Por ejemplo, puede encontrar el tiempo medio de estudio y la calificación de los grupos de estudiantes que aprobaron y reprobaron el curso."
      ]
    },
    {
      "cell_type": "code",
      "metadata": {
        "id": "23Sph2Zy0PB0"
      },
      "source": [
        "print(df_students.groupby(df_students.Pass)['StudyHours', 'Grade'].mean())"
      ],
      "execution_count": null,
      "outputs": []
    },
    {
      "cell_type": "markdown",
      "metadata": {
        "id": "nXAz8Yrz0SMm"
      },
      "source": [
        "Los DataFrames son increíblemente versátiles y facilitan la manipulación de datos. Muchas operaciones de DataFrame devuelven una nueva copia del DataFrame; por lo que si desea modificar un DataFrame pero mantener la variable existente, debe asignar el resultado de la operación a la variable existente. Por ejemplo, el siguiente código ordena los datos de los estudiantes en orden descendente de Grado y asigna el DataFrame ordenado resultante a la variable df_students original."
      ]
    },
    {
      "cell_type": "code",
      "metadata": {
        "id": "cqft6dhk0U8p"
      },
      "source": [
        "# Create a DataFrame with the data sorted by Grade (descending)\n",
        "df_students = df_students.sort_values('Grade', ascending=False)\n",
        "\n",
        "# Show the DataFrame\n",
        "df_students"
      ],
      "execution_count": null,
      "outputs": []
    },
    {
      "cell_type": "markdown",
      "metadata": {
        "id": "SMqG3Du_1LYs"
      },
      "source": [
        "**Visualize data**"
      ]
    },
    {
      "cell_type": "markdown",
      "metadata": {
        "id": "YNcUVN4g1OT-"
      },
      "source": [
        "Data scientists visualize data to understand it better. This can mean looking at the raw data, summary measures such as averages, or graphing the data. Graphs are a powerful means of viewing data, as we can discern moderately complex patterns quickly without needing to define mathematical summary measures."
      ]
    },
    {
      "cell_type": "markdown",
      "metadata": {
        "id": "Ix2G7HJp1Rxw"
      },
      "source": [
        "**Representar datos visualmente**"
      ]
    },
    {
      "cell_type": "markdown",
      "metadata": {
        "id": "VPq4_V1z1X_s"
      },
      "source": [
        "Representing data visually typically means graphing it. This is done to provide a fast qualitative assessment of our data, which can be useful for understanding results, finding outlier values, understanding how numbers are distributed, and so on.\n",
        "\n",
        "While sometimes we know ahead of time what kind of graph will be most useful, other times we use graphs in an exploratory way. To understand the power of data visualization, consider the data below: the location (x,y) of a self-driving car. In its raw form, it's hard to see any real patterns. The mean or average, tells us that its path was centred around x=0.2 and y=0.3, and the range of numbers appears to be between about -2 and 2.\n",
        "\n",
        "If we now plot Location-X over time, we can see that we appear to have some missing values between times 7 and 12."
      ]
    },
    {
      "cell_type": "markdown",
      "metadata": {
        "id": "qXZQ-RFg13Ks"
      },
      "source": [
        "![4-x-coordinates.png](data:image/png;base64,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)"
      ]
    },
    {
      "cell_type": "markdown",
      "metadata": {
        "id": "jD29DzDf18Fi"
      },
      "source": [
        "If we graph X vs Y, we end up with a map of where the car has driven. It’s instantly obvious that the car has been driving in a circle, but at some point drove to the center of that circle."
      ]
    },
    {
      "cell_type": "markdown",
      "metadata": {
        "id": "Ct3Gb-ay1_eV"
      },
      "source": [
        "![4-x-y-coordinates.png](data:image/png;base64,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)"
      ]
    },
    {
      "cell_type": "markdown",
      "metadata": {
        "id": "cDkRqe6R2E3O"
      },
      "source": [
        "Graphs aren't limited to 2D scatter plots like those above, but can be used to explore other kinds of data, like proportions - shown through pie charts, stacked bar graphs - how data are spread - with histograms, box and whisker plots - and how two data sets differ. Often, when we're trying to understand raw data or results, we may experiment with different types of graphs until we come across one that explains the data in a visually intuitive way."
      ]
    },
    {
      "cell_type": "markdown",
      "metadata": {
        "id": "2ZK7d8D02LqP"
      },
      "source": [
        "# **Ejercicio: visualizar datos con Matplotlib**"
      ]
    },
    {
      "cell_type": "markdown",
      "metadata": {
        "id": "mTLVrB2u7tp-"
      },
      "source": [
        "Este módulo requiere una caja de arena para completarse. Una caja de arena le da acceso a recursos gratuitos. No se cobrará su suscripción personal. La zona de pruebas solo se puede utilizar para completar la formación en Microsoft Learn. El uso por cualquier otro motivo está prohibido y puede resultar en la pérdida permanente del acceso a la caja de arena."
      ]
    },
    {
      "cell_type": "markdown",
      "metadata": {
        "id": "oHxuLqd0-Zzg"
      },
      "source": [
        "Explorar datos con Python: visualizar datos\n",
        "En este cuaderno, aplicaremos técnicas básicas para analizar datos con estadísticas básicas y visualizar mediante gráficos.\n",
        "\n",
        "Cargando nuestros datos\n",
        "Antes de empezar, carguemos los mismos datos sobre las horas de estudio que analizamos en el cuaderno anterior. También volveremos a calcular quién pasó de la misma manera que la última vez. Ejecute el código en la celda de abajo haciendo clic en el botón ► Ejecutar para ver los datos."
      ]
    },
    {
      "cell_type": "code",
      "metadata": {
        "id": "3PUEE-yN-b0w"
      },
      "source": [
        "import pandas as pd\n",
        "\n",
        "# Load data from a text file\n",
        "!wget https://raw.githubusercontent.com/MicrosoftDocs/mslearn-introduction-to-machine-learning/main/Data/ml-basics/grades.csv\n",
        "df_students = pd.read_csv('grades.csv',delimiter=',',header='infer')\n",
        "\n",
        "# Remove any rows with missing data\n",
        "df_students = df_students.dropna(axis=0, how='any')\n",
        "\n",
        "# Calculate who passed, assuming '60' is the grade needed to pass\n",
        "passes  = pd.Series(df_students['Grade'] >= 60)\n",
        "\n",
        "# Save who passed to the Pandas dataframe\n",
        "df_students = pd.concat([df_students, passes.rename(\"Pass\")], axis=1)\n",
        "\n",
        "\n",
        "# Print the result out into this notebook\n",
        "df_students "
      ],
      "execution_count": null,
      "outputs": []
    },
    {
      "cell_type": "markdown",
      "metadata": {
        "id": "53DlcvQE-evl"
      },
      "source": [
        "**Visualización de datos con Matplotlib**"
      ]
    },
    {
      "cell_type": "markdown",
      "metadata": {
        "id": "2GqiMED8-i21"
      },
      "source": [
        "Los DataFrames brindan una excelente manera de explorar y analizar datos tabulares, pero a veces una imagen vale más que mil filas y columnas. La biblioteca Matplotlib proporciona la base para trazar visualizaciones de datos que pueden mejorar en gran medida su capacidad para analizar los datos.\n",
        "\n",
        "Comencemos con una gráfica de barras simple que muestra la calificación de cada estudiante."
      ]
    },
    {
      "cell_type": "code",
      "metadata": {
        "id": "ExMMiM29mBTO"
      },
      "source": [
        "# Ensure plots are displayed inline in the notebook\n",
        "%matplotlib inline\n",
        "\n",
        "from matplotlib import pyplot as plt\n",
        "\n",
        "# Create a bar plot of name vs grade\n",
        "plt.bar(x=df_students.Name, height=df_students.Grade)\n",
        "\n",
        "# Display the plot\n",
        "plt.show()"
      ],
      "execution_count": null,
      "outputs": []
    },
    {
      "cell_type": "markdown",
      "metadata": {
        "id": "kvmxI3OSmK_G"
      },
      "source": [
        "Tenga en cuenta que utilizó la clase pyplot de Matplotlib para trazar el gráfico. Esta clase proporciona un montón de formas de mejorar los elementos visuales de la trama. Por ejemplo, el siguiente código:\n",
        "\n",
        "Especifica el color del gráfico de barras.\n",
        "Agrega un título al gráfico (para que sepamos lo que representa)\n",
        "Agrega etiquetas a X e Y (para que sepamos qué eje muestra qué datos)\n",
        "Agrega una cuadrícula (para facilitar la determinación de los valores de las barras)\n",
        "Gira los marcadores X (para que podamos leerlos)"
      ]
    },
    {
      "cell_type": "code",
      "metadata": {
        "id": "NUGvHaTlmOIw"
      },
      "source": [
        "# Create a bar plot of name vs grade\n",
        "plt.bar(x=df_students.Name, height=df_students.Grade, color='orange')\n",
        "\n",
        "# Customize the chart\n",
        "plt.title('Student Grades')\n",
        "plt.xlabel('Student')\n",
        "plt.ylabel('Grade')\n",
        "plt.grid(color='#95a5a6', linestyle='--', linewidth=2, axis='y', alpha=0.7)\n",
        "plt.xticks(rotation=90)\n",
        "\n",
        "# Display the plot\n",
        "plt.show()"
      ],
      "execution_count": null,
      "outputs": []
    },
    {
      "cell_type": "markdown",
      "metadata": {
        "id": "JPW2OqcImRhM"
      },
      "source": [
        "Una trama está técnicamente contenida con una figura. En los ejemplos anteriores, la figura se creó implícitamente para usted; pero puedes crearlo explícitamente. Por ejemplo, el siguiente código crea una figura con un tamaño específico."
      ]
    },
    {
      "cell_type": "code",
      "metadata": {
        "id": "KkeG209tmTYK"
      },
      "source": [
        "# Create a Figure\n",
        "fig = plt.figure(figsize=(8,3))\n",
        "\n",
        "# Create a bar plot of name vs grade\n",
        "plt.bar(x=df_students.Name, height=df_students.Grade, color='orange')\n",
        "\n",
        "# Customize the chart\n",
        "plt.title('Student Grades')\n",
        "plt.xlabel('Student')\n",
        "plt.ylabel('Grade')\n",
        "plt.grid(color='#95a5a6', linestyle='--', linewidth=2, axis='y', alpha=0.7)\n",
        "plt.xticks(rotation=90)\n",
        "\n",
        "# Show the figure\n",
        "plt.show()"
      ],
      "execution_count": null,
      "outputs": []
    },
    {
      "cell_type": "markdown",
      "metadata": {
        "id": "LnpJJg1HmXCM"
      },
      "source": [
        "Una figura puede contener múltiples subtramas, cada una en su propio eje.\n",
        "\n",
        "Por ejemplo, el siguiente código crea una figura con dos subtramas: una es un gráfico de barras que muestra las calificaciones de los estudiantes y el otro es un gráfico circular que compara el número de calificaciones aprobatorias con las no aprobadas."
      ]
    },
    {
      "cell_type": "code",
      "metadata": {
        "id": "QL9DJTpgmaEn"
      },
      "source": [
        "# Create a figure for 2 subplots (1 row, 2 columns)\n",
        "fig, ax = plt.subplots(1, 2, figsize = (10,4))\n",
        "\n",
        "# Create a bar plot of name vs grade on the first axis\n",
        "ax[0].bar(x=df_students.Name, height=df_students.Grade, color='orange')\n",
        "ax[0].set_title('Grades')\n",
        "ax[0].set_xticklabels(df_students.Name, rotation=90)\n",
        "\n",
        "# Create a pie chart of pass counts on the second axis\n",
        "pass_counts = df_students['Pass'].value_counts()\n",
        "ax[1].pie(pass_counts, labels=pass_counts)\n",
        "ax[1].set_title('Passing Grades')\n",
        "ax[1].legend(pass_counts.keys().tolist())\n",
        "\n",
        "# Add a title to the Figure\n",
        "fig.suptitle('Student Data')\n",
        "\n",
        "# Show the figure\n",
        "fig.show()"
      ],
      "execution_count": null,
      "outputs": []
    },
    {
      "cell_type": "markdown",
      "metadata": {
        "id": "4FkIXwQLmdTY"
      },
      "source": [
        "Hasta ahora, ha utilizado métodos del objeto Matplotlib.pyplot para trazar gráficos. Sin embargo, Matplotlib es tan fundamental para los gráficos en Python que muchos paquetes, incluido Pandas, proporcionan métodos que abstraen las funciones subyacentes de Matplotlib y simplifican el trazado. Por ejemplo, el DataFrame proporciona sus propios métodos para trazar datos, como se muestra en el siguiente ejemplo para trazar un gráfico de barras de horas de estudio."
      ]
    },
    {
      "cell_type": "code",
      "metadata": {
        "id": "aOUPlM-Dmfj4"
      },
      "source": [
        "df_students.plot.bar(x='Name', y='StudyHours', color='teal', figsize=(6,4))"
      ],
      "execution_count": null,
      "outputs": []
    },
    {
      "cell_type": "markdown",
      "metadata": {
        "id": "F7JDT0w6mjsq"
      },
      "source": [
        "**Empezando con el análisis estadístico**"
      ]
    },
    {
      "cell_type": "markdown",
      "metadata": {
        "id": "PMKtBeZhmmoA"
      },
      "source": [
        "Descriptive statistics and data distribution\n",
        "When examining a variable (for example a sample of student grades), data scientists are particularly interested in its distribution (in other words, how are all the different grade values spread across the sample). The starting point for this exploration is often to visualize the data as a histogram, and see how frequently each value for the variable occurs."
      ]
    },
    {
      "cell_type": "code",
      "metadata": {
        "id": "00d3gaqwmoYJ"
      },
      "source": [
        "# Get the variable to examine\n",
        "var_data = df_students['Grade']\n",
        "\n",
        "# Create a Figure\n",
        "fig = plt.figure(figsize=(10,4))\n",
        "\n",
        "# Plot a histogram\n",
        "plt.hist(var_data)\n",
        "\n",
        "# Add titles and labels\n",
        "plt.title('Data Distribution')\n",
        "plt.xlabel('Value')\n",
        "plt.ylabel('Frequency')\n",
        "\n",
        "# Show the figure\n",
        "fig.show()"
      ],
      "execution_count": null,
      "outputs": []
    },
    {
      "cell_type": "markdown",
      "metadata": {
        "id": "JvcDNrDcnIlW"
      },
      "source": [
        "El histograma de calificaciones tiene una forma simétrica, donde las calificaciones que ocurren con más frecuencia tienden a estar en el medio del rango (alrededor de 50), con menos calificaciones en los extremos de la escala.\n",
        "\n",
        "Medidas de tendencia central\n",
        "\n",
        "Para comprender mejor la distribución, podemos examinar las llamadas medidas de tendencia central; que es una forma elegante de describir las estadísticas que representan el \"medio\" de los datos. El objetivo de esto es intentar encontrar un valor \"típico\". Las formas comunes de definir la mitad de los datos incluyen:\n",
        "\n",
        "La media: Un promedio simple basado en la suma de todos los valores del conjunto de muestras y luego dividiendo el total por el número de muestras.\n",
        "La mediana: el valor en el medio del rango de todos los valores de la muestra.\n",
        "El modo: el valor que ocurre con más frecuencia en el conjunto de muestra *.\n",
        "Calculemos estos valores, junto con el valor mínimo y máximo."
      ]
    },
    {
      "cell_type": "code",
      "metadata": {
        "id": "1awNj8b5nRz0"
      },
      "source": [
        "# Get the variable to examine\n",
        "var = df_students['Grade']\n",
        "\n",
        "# Get statistics\n",
        "min_val = var.min()\n",
        "max_val = var.max()\n",
        "mean_val = var.mean()\n",
        "med_val = var.median()\n",
        "mod_val = var.mode()[0]\n",
        "\n",
        "print('Minimum:{:.2f}\\nMean:{:.2f}\\nMedian:{:.2f}\\nMode:{:.2f}\\nMaximum:{:.2f}\\n'.format(min_val,\n",
        "                                                                                        mean_val,\n",
        "                                                                                        med_val,\n",
        "                                                                                        mod_val,\n",
        "                                                                                        max_val))\n",
        "\n",
        "# Create a Figure\n",
        "fig = plt.figure(figsize=(10,4))\n",
        "\n",
        "# Plot a histogram\n",
        "plt.hist(var)\n",
        "\n",
        "# Add lines for the statistics\n",
        "plt.axvline(x=min_val, color = 'gray', linestyle='dashed', linewidth = 2)\n",
        "plt.axvline(x=mean_val, color = 'cyan', linestyle='dashed', linewidth = 2)\n",
        "plt.axvline(x=med_val, color = 'red', linestyle='dashed', linewidth = 2)\n",
        "plt.axvline(x=mod_val, color = 'yellow', linestyle='dashed', linewidth = 2)\n",
        "plt.axvline(x=max_val, color = 'gray', linestyle='dashed', linewidth = 2)\n",
        "\n",
        "# Add titles and labels\n",
        "plt.title('Data Distribution')\n",
        "plt.xlabel('Value')\n",
        "plt.ylabel('Frequency')\n",
        "\n",
        "# Show the figure\n",
        "fig.show()"
      ],
      "execution_count": null,
      "outputs": []
    },
    {
      "cell_type": "markdown",
      "metadata": {
        "id": "GAaeB3REnXPC"
      },
      "source": [
        "Para los datos de calificaciones, la media, la mediana y la moda parecen estar más o menos en el medio del mínimo y el máximo, alrededor de 50.\n",
        "\n",
        "Otra forma de visualizar la distribución de una variable es usar un diagrama de caja (a veces llamado diagrama de caja y bigotes). Creemos uno para los datos de calificaciones."
      ]
    },
    {
      "cell_type": "code",
      "metadata": {
        "id": "Oaj82Yz1na16"
      },
      "source": [
        "# Get the variable to examine\n",
        "var = df_students['Grade']\n",
        "\n",
        "# Create a Figure\n",
        "fig = plt.figure(figsize=(10,4))\n",
        "\n",
        "# Plot a histogram\n",
        "plt.boxplot(var)\n",
        "\n",
        "# Add titles and labels\n",
        "plt.title('Data Distribution')\n",
        "\n",
        "# Show the figure\n",
        "fig.show()"
      ],
      "execution_count": null,
      "outputs": []
    },
    {
      "cell_type": "markdown",
      "metadata": {
        "id": "WyY29mlYnf7Y"
      },
      "source": [
        "El diagrama de caja muestra la distribución de los valores de calificación en un formato diferente al histograma. La parte del cuadro del gráfico muestra dónde residen los dos cuartiles internos de los datos, por lo que en este caso, la mitad de las calificaciones están entre aproximadamente 36 y 63. Los bigotes que se extienden desde el cuadro muestran los dos cuartiles externos; por lo que la otra mitad de las calificaciones en este caso están entre 0 y 36 o 63 y 100. La línea en el cuadro indica el valor mediano."
      ]
    },
    {
      "cell_type": "code",
      "metadata": {
        "id": "KdpBaejunlNg"
      },
      "source": [
        "# Create a function that we can re-use\n",
        "def show_distribution(var_data):\n",
        "    from matplotlib import pyplot as plt\n",
        "\n",
        "    # Get statistics\n",
        "    min_val = var_data.min()\n",
        "    max_val = var_data.max()\n",
        "    mean_val = var_data.mean()\n",
        "    med_val = var_data.median()\n",
        "    mod_val = var_data.mode()[0]\n",
        "\n",
        "    print('Minimum:{:.2f}\\nMean:{:.2f}\\nMedian:{:.2f}\\nMode:{:.2f}\\nMaximum:{:.2f}\\n'.format(min_val,\n",
        "                                                                                            mean_val,\n",
        "                                                                                            med_val,\n",
        "                                                                                            mod_val,\n",
        "                                                                                            max_val))\n",
        "\n",
        "    # Create a figure for 2 subplots (2 rows, 1 column)\n",
        "    fig, ax = plt.subplots(2, 1, figsize = (10,4))\n",
        "\n",
        "    # Plot the histogram   \n",
        "    ax[0].hist(var_data)\n",
        "    ax[0].set_ylabel('Frequency')\n",
        "\n",
        "    # Add lines for the mean, median, and mode\n",
        "    ax[0].axvline(x=min_val, color = 'gray', linestyle='dashed', linewidth = 2)\n",
        "    ax[0].axvline(x=mean_val, color = 'cyan', linestyle='dashed', linewidth = 2)\n",
        "    ax[0].axvline(x=med_val, color = 'red', linestyle='dashed', linewidth = 2)\n",
        "    ax[0].axvline(x=mod_val, color = 'yellow', linestyle='dashed', linewidth = 2)\n",
        "    ax[0].axvline(x=max_val, color = 'gray', linestyle='dashed', linewidth = 2)\n",
        "\n",
        "    # Plot the boxplot   \n",
        "    ax[1].boxplot(var_data, vert=False)\n",
        "    ax[1].set_xlabel('Value')\n",
        "\n",
        "    # Add a title to the Figure\n",
        "    fig.suptitle('Data Distribution')\n",
        "\n",
        "    # Show the figure\n",
        "    fig.show()\n",
        "\n",
        "# Get the variable to examine\n",
        "col = df_students['Grade']\n",
        "# Call the function\n",
        "show_distribution(col)"
      ],
      "execution_count": null,
      "outputs": []
    },
    {
      "cell_type": "markdown",
      "metadata": {
        "id": "Hawp7DP3nqpx"
      },
      "source": [
        "Todas las medidas de tendencia central están justo en el medio de la distribución de datos, que es simétrica con valores que se vuelven progresivamente más bajos en ambas direcciones desde el medio.\n",
        "\n",
        "Para explorar esta distribución con más detalle, debe comprender que la estadística se trata fundamentalmente de tomar muestras de datos y utilizar funciones de probabilidad para extrapolar información sobre la población completa de datos.\n",
        "\n",
        "¿Qué significa esto? Las muestras se refieren a los datos que tenemos a mano, como información sobre los hábitos de estudio y las calificaciones de estos 22 estudiantes. La población se refiere a todos los datos posibles que pudimos recopilar, como las calificaciones y los hábitos de estudio de cada estudiante en todas las instituciones educativas a lo largo de la historia. Por lo general, estamos interesados ​​en la población, pero simplemente no es práctico recopilar todos esos datos. En cambio, debemos intentar estimar cómo es la población a partir de la pequeña cantidad de datos (muestras) que tenemos.\n",
        "\n",
        "Si tenemos suficientes muestras, podemos calcular algo llamado función de densidad de probabilidad, que estima la distribución de calificaciones para la población completa."
      ]
    },
    {
      "cell_type": "code",
      "metadata": {
        "id": "h4svcXninuSC"
      },
      "source": [
        "def show_density(var_data):\n",
        "    from matplotlib import pyplot as plt\n",
        "\n",
        "    fig = plt.figure(figsize=(10,4))\n",
        "\n",
        "    # Plot density\n",
        "    var_data.plot.density()\n",
        "\n",
        "    # Add titles and labels\n",
        "    plt.title('Data Density')\n",
        "\n",
        "    # Show the mean, median, and mode\n",
        "    plt.axvline(x=var_data.mean(), color = 'cyan', linestyle='dashed', linewidth = 2)\n",
        "    plt.axvline(x=var_data.median(), color = 'red', linestyle='dashed', linewidth = 2)\n",
        "    plt.axvline(x=var_data.mode()[0], color = 'yellow', linestyle='dashed', linewidth = 2)\n",
        "\n",
        "    # Show the figure\n",
        "    plt.show()\n",
        "\n",
        "# Get the density of Grade\n",
        "col = df_students['Grade']\n",
        "show_density(col)"
      ],
      "execution_count": null,
      "outputs": []
    },
    {
      "cell_type": "markdown",
      "metadata": {
        "id": "fpNtU4lgn5Ow"
      },
      "source": [
        "# **Examine real world data**"
      ]
    },
    {
      "cell_type": "markdown",
      "metadata": {
        "id": "H5IhmuWvn9ua"
      },
      "source": [
        "Los datos presentados en el material educativo suelen ser notablemente perfectos y están diseñados para mostrar a los estudiantes cómo encontrar relaciones claras entre las variables. Los datos del \"mundo real\" son un poco menos simples.\n",
        "\n",
        "Debido a la complejidad de los datos del \"mundo real\", los datos sin procesar deben inspeccionarse para detectar problemas antes de usarlos.\n",
        "\n",
        "Como tal, la mejor práctica es inspeccionar los datos sin procesar y procesarlos antes de usarlos, lo que reduce los errores o problemas, generalmente eliminando puntos de datos erróneos o modificando los datos en una forma más útil."
      ]
    },
    {
      "cell_type": "markdown",
      "metadata": {
        "id": "H4gYS545oOAb"
      },
      "source": [
        "**Problemas de datos del mundo real**"
      ]
    },
    {
      "cell_type": "markdown",
      "metadata": {
        "id": "GXMJSrGToTvR"
      },
      "source": [
        "Los datos del mundo real pueden contener muchos problemas diferentes que pueden afectar la utilidad de los datos y nuestra interpretación de los resultados.\n",
        "\n",
        "Es importante darse cuenta de que la mayoría de los datos del mundo real están influenciados por factores que no se registraron en ese momento. Por ejemplo, podríamos tener una tabla de tiempos de pista de autos de carrera junto con los tamaños de los motores, pero varios otros factores que no se anotaron, como el clima, probablemente también influyeron. Si es problemático, la influencia de estos factores a menudo se puede reducir aumentando el tamaño del conjunto de datos.\n",
        "\n",
        "En otras situaciones, los puntos de datos que están claramente fuera de lo esperado, también conocidos como \"valores atípicos\", a veces se pueden eliminar de forma segura de los análisis, aunque se debe tener cuidado de no eliminar los puntos de datos que brindan información real.\n",
        "\n",
        "Otro problema común en los datos del mundo real es el sesgo. El sesgo se refiere a una tendencia a seleccionar ciertos tipos de valores con más frecuencia que otros, de una manera que tergiversa la población subyacente o el \"mundo real\". A veces, el sesgo se puede identificar mediante la exploración de datos teniendo en cuenta los conocimientos básicos sobre el origen de los datos.\n",
        "\n",
        "Recuerde, los datos del mundo real siempre tendrán problemas, pero este suele ser un problema superable. Recuerda:\n",
        "\n",
        "Compruebe si faltan valores y datos mal registrados\n",
        "Considere la eliminación de valores atípicos obvios\n",
        "Considere qué factores del mundo real podrían afectar su análisis y considere si el tamaño de su conjunto de datos es lo suficientemente grande para manejar esto\n",
        "Compruebe si hay datos brutos sesgados y considere sus opciones para solucionar este problema, si se encuentran"
      ]
    },
    {
      "cell_type": "markdown",
      "metadata": {
        "id": "4MfbU2JEogYX"
      },
      "source": [
        "# **Exploring data with Python - real world data**"
      ]
    },
    {
      "cell_type": "markdown",
      "metadata": {
        "id": "abYiIsQTokVP"
      },
      "source": [
        "La última vez, analizamos las calificaciones de los datos de nuestros estudiantes y lo investigamos visualmente con histogramas y diagramas de caja. Ahora veremos casos más complejos, describiremos los datos de manera más completa y discutiremos cómo hacer comparaciones básicas entre los datos.\n",
        "\n",
        "Distribuciones de datos del mundo real\n",
        "La última vez, analizamos las calificaciones de los datos de nuestros estudiantes y estimamos a partir de esta muestra cómo se vería la población completa de calificaciones. Solo para actualizar, echemos un vistazo a estos datos nuevamente.\n",
        "\n",
        "Ejecute el siguiente código para imprimir los datos y hacer un histograma + diagrama de caja que muestre las calificaciones de nuestra muestra de estudiantes."
      ]
    },
    {
      "cell_type": "code",
      "metadata": {
        "id": "Arqgwqk8ovEw"
      },
      "source": [
        "import pandas as pd\n",
        "from matplotlib import pyplot as plt\n",
        "\n",
        "# Load data from a text file\n",
        "!wget https://raw.githubusercontent.com/MicrosoftDocs/mslearn-introduction-to-machine-learning/main/Data/ml-basics/grades.csv\n",
        "df_students = pd.read_csv('grades.csv',delimiter=',',header='infer')\n",
        "\n",
        "# Remove any rows with missing data\n",
        "df_students = df_students.dropna(axis=0, how='any')\n",
        "\n",
        "# Calculate who passed, assuming '60' is the grade needed to pass\n",
        "passes  = pd.Series(df_students['Grade'] >= 60)\n",
        "\n",
        "# Save who passed to the Pandas dataframe\n",
        "df_students = pd.concat([df_students, passes.rename(\"Pass\")], axis=1)\n",
        "\n",
        "\n",
        "# Print the result out into this notebook\n",
        "print(df_students)\n",
        "\n",
        "\n",
        "# Create a function that we can re-use\n",
        "def show_distribution(var_data):\n",
        "    '''\n",
        "    This function will make a distribution (graph) and display it\n",
        "    '''\n",
        "\n",
        "    # Get statistics\n",
        "    min_val = var_data.min()\n",
        "    max_val = var_data.max()\n",
        "    mean_val = var_data.mean()\n",
        "    med_val = var_data.median()\n",
        "    mod_val = var_data.mode()[0]\n",
        "\n",
        "    print('Minimum:{:.2f}\\nMean:{:.2f}\\nMedian:{:.2f}\\nMode:{:.2f}\\nMaximum:{:.2f}\\n'.format(min_val,\n",
        "                                                                                            mean_val,\n",
        "                                                                                            med_val,\n",
        "                                                                                            mod_val,\n",
        "                                                                                            max_val))\n",
        "\n",
        "    # Create a figure for 2 subplots (2 rows, 1 column)\n",
        "    fig, ax = plt.subplots(2, 1, figsize = (10,4))\n",
        "\n",
        "    # Plot the histogram   \n",
        "    ax[0].hist(var_data)\n",
        "    ax[0].set_ylabel('Frequency')\n",
        "\n",
        "    # Add lines for the mean, median, and mode\n",
        "    ax[0].axvline(x=min_val, color = 'gray', linestyle='dashed', linewidth = 2)\n",
        "    ax[0].axvline(x=mean_val, color = 'cyan', linestyle='dashed', linewidth = 2)\n",
        "    ax[0].axvline(x=med_val, color = 'red', linestyle='dashed', linewidth = 2)\n",
        "    ax[0].axvline(x=mod_val, color = 'yellow', linestyle='dashed', linewidth = 2)\n",
        "    ax[0].axvline(x=max_val, color = 'gray', linestyle='dashed', linewidth = 2)\n",
        "\n",
        "    # Plot the boxplot   \n",
        "    ax[1].boxplot(var_data, vert=False)\n",
        "    ax[1].set_xlabel('Value')\n",
        "\n",
        "    # Add a title to the Figure\n",
        "    fig.suptitle('Data Distribution')\n",
        "\n",
        "    # Show the figure\n",
        "    fig.show()\n",
        "\n",
        "\n",
        "show_distribution(df_students['Grade'])"
      ],
      "execution_count": null,
      "outputs": []
    },
    {
      "cell_type": "markdown",
      "metadata": {
        "id": "mIZXKSOKoyxs"
      },
      "source": [
        "Como recordará, nuestros datos tenían la media y la moda en el centro, con datos distribuidos simétricamente desde allí.\n",
        "\n",
        "Ahora echemos un vistazo a la distribución de los datos de las horas de estudio."
      ]
    },
    {
      "cell_type": "code",
      "metadata": {
        "id": "d5AQy7Dfo2GJ"
      },
      "source": [
        "# Get the variable to examine\n",
        "col = df_students['StudyHours']\n",
        "# Call the function\n",
        "show_distribution(col)"
      ],
      "execution_count": null,
      "outputs": []
    },
    {
      "cell_type": "markdown",
      "metadata": {
        "id": "764pmHmuo5t0"
      },
      "source": [
        "La distribución de los datos del tiempo de estudio es significativamente diferente a la de los grados.\n",
        "\n",
        "Tenga en cuenta que los bigotes del diagrama de caja solo comienzan alrededor de 6.0, lo que indica que la gran mayoría del primer trimestre de los datos está por encima de este valor. El mínimo está marcado con una o, lo que indica que es estadísticamente un valor atípico, un valor que se encuentra significativamente fuera del rango del resto de la distribución.\n",
        "\n",
        "Los valores atípicos pueden ocurrir por muchas razones. Tal vez un estudiante tenía la intención de registrar \"10\" horas de tiempo de estudio, pero ingresó \"1\" y perdió el \"0\". ¡O tal vez el estudiante era anormalmente perezoso cuando se trata de estudiar! De cualquier manera, es una anomalía estadística que no representa a un estudiante típico. Veamos cómo se ve la distribución sin él."
      ]
    },
    {
      "cell_type": "code",
      "metadata": {
        "id": "wKzfvrp-o9ds"
      },
      "source": [
        "# Get the variable to examine\n",
        "# We will only get students who have studied more than one hour\n",
        "col = df_students[df_students.StudyHours>1]['StudyHours']\n",
        "\n",
        "# Call the function\n",
        "show_distribution(col)"
      ],
      "execution_count": null,
      "outputs": []
    },
    {
      "cell_type": "markdown",
      "metadata": {
        "id": "n8AGK9UzpAYE"
      },
      "source": [
        "Para fines de aprendizaje, acabamos de tratar que el valor 1 es un valor atípico y lo excluimos. En el mundo real, sin embargo, sería inusual excluir datos en los extremos sin más justificación cuando el tamaño de nuestra muestra es tan pequeño. Esto se debe a que cuanto menor sea el tamaño de nuestra muestra, más probable es que nuestra muestra sea una mala representación de toda la población (aquí, la población significa calificaciones para todos los estudiantes, no solo para nuestros 22). Por ejemplo, si tomamos una muestra del tiempo de estudio de otros 1000 estudiantes, ¡podríamos encontrar que en realidad es bastante común no estudiar mucho!\n",
        "\n",
        "Cuando tenemos más datos disponibles, nuestra muestra se vuelve más confiable. Esto hace que sea más fácil considerar valores atípicos como valores que caen por debajo o por encima de los percentiles dentro de los cuales se encuentran la mayoría de los datos. Por ejemplo, el siguiente código usa la función de cuantil de Pandas para excluir observaciones por debajo del percentil 0.01 (el valor por encima del cual reside el 99% de los datos)."
      ]
    },
    {
      "cell_type": "code",
      "metadata": {
        "id": "CSQGpAnhqnhz"
      },
      "source": [
        "# calculate the 0.01th percentile\n",
        "q01 = df_students.StudyHours.quantile(0.01)\n",
        "# Get the variable to examine\n",
        "col = df_students[df_students.StudyHours>q01]['StudyHours']\n",
        "# Call the function\n",
        "show_distribution(col)"
      ],
      "execution_count": null,
      "outputs": []
    },
    {
      "cell_type": "markdown",
      "metadata": {
        "id": "8dKslJFkqq3a"
      },
      "source": [
        "Con los valores atípicos eliminados, el diagrama de caja muestra todos los datos dentro de los cuatro cuartiles. Sin embargo, tenga en cuenta que la distribución no es simétrica como lo es para los datos de calificaciones: hay algunos estudiantes con tiempos de estudio muy altos de alrededor de 16 horas, pero la mayor parte de los datos está entre 7 y 13 horas; Los pocos valores extremadamente altos empujan la media hacia el extremo superior de la escala.\n",
        "\n",
        "Veamos la densidad de esta distribución."
      ]
    },
    {
      "cell_type": "code",
      "metadata": {
        "id": "kWStJ5ZBquH7"
      },
      "source": [
        "def show_density(var_data):\n",
        "    fig = plt.figure(figsize=(10,4))\n",
        "\n",
        "    # Plot density\n",
        "    var_data.plot.density()\n",
        "\n",
        "    # Add titles and labels\n",
        "    plt.title('Data Density')\n",
        "\n",
        "    # Show the mean, median, and mode\n",
        "    plt.axvline(x=var_data.mean(), color = 'cyan', linestyle='dashed', linewidth = 2)\n",
        "    plt.axvline(x=var_data.median(), color = 'red', linestyle='dashed', linewidth = 2)\n",
        "    plt.axvline(x=var_data.mode()[0], color = 'yellow', linestyle='dashed', linewidth = 2)\n",
        "\n",
        "    # Show the figure\n",
        "    plt.show()\n",
        "\n",
        "# Get the density of StudyHours\n",
        "show_density(col)"
      ],
      "execution_count": null,
      "outputs": []
    },
    {
      "cell_type": "markdown",
      "metadata": {
        "id": "HBmA1J8Wqx4j"
      },
      "source": [
        "Este tipo de distribución se llama sesgada a la derecha. La masa de los datos está en el lado izquierdo de la distribución, creando una cola larga a la derecha debido a los valores en el extremo superior; que tiran de la media hacia la derecha."
      ]
    },
    {
      "cell_type": "markdown",
      "metadata": {
        "id": "5WHHWqHEqz_-"
      },
      "source": [
        "**Measures of variance**"
      ]
    },
    {
      "cell_type": "markdown",
      "metadata": {
        "id": "08CMaRjJq209"
      },
      "source": [
        "So now we have a good idea where the middle of the grade and study hours data distributions are. However, there's another aspect of the distributions we should examine: how much variability is there in the data?\n",
        "\n",
        "Typical statistics that measure variability in the data include:\n",
        "\n",
        "Range: The difference between the maximum and minimum. There's no built-in function for this, but it's easy to calculate using the min and max functions.\n",
        "Variance: The average of the squared difference from the mean. You can use the built-in var function to find this.\n",
        "Standard Deviation: The square root of the variance. You can use the built-in std function to find this."
      ]
    },
    {
      "cell_type": "code",
      "metadata": {
        "id": "fmgdjCf0rB_V"
      },
      "source": [
        "for col_name in ['Grade','StudyHours']:\n",
        "    col = df_students[col_name]\n",
        "    rng = col.max() - col.min()\n",
        "    var = col.var()\n",
        "    std = col.std()\n",
        "    print('\\n{}:\\n - Range: {:.2f}\\n - Variance: {:.2f}\\n - Std.Dev: {:.2f}'.format(col_name, rng, var, std))"
      ],
      "execution_count": null,
      "outputs": []
    },
    {
      "cell_type": "markdown",
      "metadata": {
        "id": "3TdepH_urFQN"
      },
      "source": [
        "De estas estadísticas, la desviación estándar es generalmente la más útil. Proporciona una medida de la varianza de los datos en la misma escala que los propios datos (por lo tanto, puntos de calificación para la distribución de calificaciones y horas para la distribución de horas de estudio). Cuanto mayor es la desviación estándar, mayor es la varianza cuando se comparan los valores de la distribución con la media de la distribución; en otras palabras, los datos están más dispersos.\n",
        "\n",
        "Cuando se trabaja con una distribución normal, la desviación estándar trabaja con las características particulares de una distribución normal para proporcionar una comprensión aún mayor. Ejecute la celda a continuación para ver la relación entre las desviaciones estándar y los datos en la distribución normal."
      ]
    },
    {
      "cell_type": "code",
      "metadata": {
        "id": "tQ-HADqTrIpv"
      },
      "source": [
        "import scipy.stats as stats\n",
        "\n",
        "# Get the Grade column\n",
        "col = df_students['Grade']\n",
        "\n",
        "# get the density\n",
        "density = stats.gaussian_kde(col)\n",
        "\n",
        "# Plot the density\n",
        "col.plot.density()\n",
        "\n",
        "# Get the mean and standard deviation\n",
        "s = col.std()\n",
        "m = col.mean()\n",
        "\n",
        "# Annotate 1 stdev\n",
        "x1 = [m-s, m+s]\n",
        "y1 = density(x1)\n",
        "plt.plot(x1,y1, color='magenta')\n",
        "plt.annotate('1 std (68.26%)', (x1[1],y1[1]))\n",
        "\n",
        "# Annotate 2 stdevs\n",
        "x2 = [m-(s*2), m+(s*2)]\n",
        "y2 = density(x2)\n",
        "plt.plot(x2,y2, color='green')\n",
        "plt.annotate('2 std (95.45%)', (x2[1],y2[1]))\n",
        "\n",
        "# Annotate 3 stdevs\n",
        "x3 = [m-(s*3), m+(s*3)]\n",
        "y3 = density(x3)\n",
        "plt.plot(x3,y3, color='orange')\n",
        "plt.annotate('3 std (99.73%)', (x3[1],y3[1]))\n",
        "\n",
        "# Show the location of the mean\n",
        "plt.axvline(col.mean(), color='cyan', linestyle='dashed', linewidth=1)\n",
        "\n",
        "plt.axis('off')\n",
        "\n",
        "plt.show()"
      ],
      "execution_count": null,
      "outputs": []
    },
    {
      "cell_type": "markdown",
      "metadata": {
        "id": "9PhAhYdrrM78"
      },
      "source": [
        "Las líneas horizontales muestran el porcentaje de datos dentro de 1, 2 y 3 desviaciones estándar de la media (más o menos).\n",
        "\n",
        "En cualquier distribución normal:\n",
        "\n",
        "Aproximadamente el 68,26% de los valores se encuentran dentro de una desviación estándar de la media.\n",
        "\n",
        "Aproximadamente el 95,45% de los valores se encuentran dentro de dos desviaciones estándar de la media.\n",
        "\n",
        "Aproximadamente el 99,73% de los valores se encuentran dentro de tres desviaciones estándar de la media.\n",
        "\n",
        "Entonces, como sabemos que la nota media es 49,18, la desviación estándar es 21,74 y la distribución de las notas es aproximadamente normal; podemos calcular que el 68,26% de los alumnos debería alcanzar una nota entre 27,44 y 70,92.\n",
        "\n",
        "Las estadísticas descriptivas que hemos utilizado para comprender la distribución de las variables de datos de los estudiantes son la base del análisis estadístico; y debido a que son una parte tan importante de la exploración de sus datos, hay un método Describe incorporado del objeto DataFrame que devuelve las principales estadísticas descriptivas para todas las columnas numéricas."
      ]
    },
    {
      "cell_type": "code",
      "metadata": {
        "id": "mFz0MHIRrSWB"
      },
      "source": [
        "df_students.describe()"
      ],
      "execution_count": null,
      "outputs": []
    },
    {
      "cell_type": "markdown",
      "metadata": {
        "id": "Qq2q4-tUrsLR"
      },
      "source": [
        "**Comparing data**"
      ]
    },
    {
      "cell_type": "markdown",
      "metadata": {
        "id": "18-m66qjrvAJ"
      },
      "source": [
        "Ahora que sabe algo sobre la distribución estadística de los datos en su conjunto de datos, está listo para examinar sus datos para identificar cualquier relación aparente entre las variables.\n",
        "\n",
        "En primer lugar, eliminemos las filas que contengan valores atípicos para tener una muestra que sea representativa de una clase típica de estudiantes. Identificamos que la columna StudyHours contiene algunos valores atípicos con valores extremadamente bajos, por lo que eliminaremos esas filas."
      ]
    },
    {
      "cell_type": "code",
      "metadata": {
        "id": "XPnwYXYxrwcv"
      },
      "source": [
        "df_sample = df_students[df_students['StudyHours']>1]\n",
        "df_sample"
      ],
      "execution_count": null,
      "outputs": []
    },
    {
      "cell_type": "markdown",
      "metadata": {
        "id": "ZQ1GifGEryIy"
      },
      "source": [
        "**Comparación de variables numéricas y categóricas**\n",
        "\n"
      ]
    },
    {
      "cell_type": "markdown",
      "metadata": {
        "id": "k2iOJcGXr75a"
      },
      "source": [
        "Los datos incluyen dos variables numéricas (StudyHours y Grade) y dos variables categóricas (Name y Pass). Comencemos comparando la columna numérica StudyHours con la columna categórica Aprobado para ver si existe una relación aparente entre la cantidad de horas estudiadas y una calificación aprobatoria.\n",
        "\n",
        "Para hacer esta comparación, creemos diagramas de caja que muestren la distribución de StudyHours para cada posible valor de Aprobación (verdadero y falso)."
      ]
    },
    {
      "cell_type": "code",
      "metadata": {
        "id": "3cNQJqUju_6l"
      },
      "source": [
        "df_sample.boxplot(column='StudyHours', by='Pass', figsize=(8,5))"
      ],
      "execution_count": null,
      "outputs": []
    },
    {
      "cell_type": "markdown",
      "metadata": {
        "id": "nrR9VE8QvCgI"
      },
      "source": [
        "Al comparar las distribuciones de StudyHours, es inmediatamente evidente (si no particularmente sorprendente) que los estudiantes que aprobaron el curso tendieron a estudiar más horas que los estudiantes que no lo hicieron. Entonces, si desea predecir si es probable que un estudiante apruebe o no el curso, la cantidad de tiempo que pasa estudiando puede ser una buena característica de predicción."
      ]
    },
    {
      "cell_type": "markdown",
      "metadata": {
        "id": "1eGEWSoGvGPT"
      },
      "source": [
        "**Comparar variables numéricas**"
      ]
    },
    {
      "cell_type": "markdown",
      "metadata": {
        "id": "VpuF6zpivJuF"
      },
      "source": [
        "Ahora comparemos dos variables numéricas. Comenzaremos creando un gráfico de barras que muestre las calificaciones y las horas de estudio."
      ]
    },
    {
      "cell_type": "code",
      "metadata": {
        "id": "1RfGo4TLvL76"
      },
      "source": [
        "# Create a bar plot of name vs grade and study hours\n",
        "df_sample.plot(x='Name', y=['Grade','StudyHours'], kind='bar', figsize=(8,5))"
      ],
      "execution_count": null,
      "outputs": []
    },
    {
      "cell_type": "markdown",
      "metadata": {
        "id": "xD34XeyqvQyr"
      },
      "source": [
        "El gráfico muestra barras para el grado y las horas de estudio de cada estudiante; pero no es fácil de comparar porque los valores están en diferentes escalas. Las calificaciones se miden en puntos de calificación y varían de 3 a 97; mientras que el tiempo de estudio se mide en horas y varía de 1 a 16.\n",
        "\n",
        "Una técnica común cuando se trabaja con datos numéricos en diferentes escalas es normalizar los datos para que los valores mantengan su distribución proporcional, pero se midan en la misma escala. Para lograr esto, usaremos una técnica llamada escala MinMax que distribuye los valores proporcionalmente en una escala de 0 a 1. Puede escribir el código para aplicar esta transformación; pero la biblioteca Scikit-Learn proporciona un escalador para que lo haga por usted."
      ]
    },
    {
      "cell_type": "code",
      "metadata": {
        "id": "OKBMEfClvT0M"
      },
      "source": [
        "from sklearn.preprocessing import MinMaxScaler\n",
        "\n",
        "# Get a scaler object\n",
        "scaler = MinMaxScaler()\n",
        "\n",
        "# Create a new dataframe for the scaled values\n",
        "df_normalized = df_sample[['Name', 'Grade', 'StudyHours']].copy()\n",
        "\n",
        "# Normalize the numeric columns\n",
        "df_normalized[['Grade','StudyHours']] = scaler.fit_transform(df_normalized[['Grade','StudyHours']])\n",
        "\n",
        "# Plot the normalized values\n",
        "df_normalized.plot(x='Name', y=['Grade','StudyHours'], kind='bar', figsize=(8,5))"
      ],
      "execution_count": null,
      "outputs": []
    },
    {
      "cell_type": "markdown",
      "metadata": {
        "id": "YRmsBNFOvamW"
      },
      "source": [
        "Con los datos normalizados, es más fácil ver una relación aparente entre la calificación y el tiempo de estudio. No es una coincidencia exacta, pero definitivamente parece que los estudiantes con calificaciones más altas tienden a haber estudiado más.\n",
        "\n",
        "Entonces parece haber una correlación entre el tiempo de estudio y la calificación; y de hecho, existe una medida de correlación estadística que podemos utilizar para cuantificar la relación entre estas columnas."
      ]
    },
    {
      "cell_type": "code",
      "metadata": {
        "id": "jVMgLAnYvfM5"
      },
      "source": [
        "df_normalized.Grade.corr(df_normalized.StudyHours)"
      ],
      "execution_count": null,
      "outputs": []
    },
    {
      "cell_type": "markdown",
      "metadata": {
        "id": "RKDKpp0_viOZ"
      },
      "source": [
        "La estadística de correlación es un valor entre -1 y 1 que indica la fuerza de una relación. Los valores por encima de 0 indican una correlación positiva (los valores altos de una variable tienden a coincidir con los valores altos de la otra), mientras que los valores por debajo de 0 indican una correlación negativa (los valores altos de una variable tienden a coincidir con los valores bajos de la otra). En este caso, el valor de correlación es cercano a 1; mostrando una correlación fuertemente positiva entre el tiempo de estudio y el grado."
      ]
    },
    {
      "cell_type": "code",
      "metadata": {
        "id": "B3z7q2bDvkOU"
      },
      "source": [
        "# Create a scatter plot\n",
        "df_sample.plot.scatter(title='Study Time vs Grade', x='StudyHours', y='Grade')"
      ],
      "execution_count": null,
      "outputs": []
    },
    {
      "cell_type": "markdown",
      "metadata": {
        "id": "lx1swoh0vn1K"
      },
      "source": [
        "Nuevamente, parece que hay un patrón discernible en el que los estudiantes que estudiaron más horas son también los estudiantes que obtuvieron las calificaciones más altas.\n",
        "\n",
        "Podemos ver esto más claramente agregando una línea de regresión (o una línea de mejor ajuste) al gráfico que muestra la tendencia general en los datos. Para hacer esto, usaremos una técnica estadística llamada regresión de mínimos cuadrados."
      ]
    },
    {
      "cell_type": "markdown",
      "metadata": {
        "id": "6fyHy8UTvqdC"
      },
      "source": [
        "Fortunately, you don't need to code the regression calculation yourself - the SciPy package includes a stats class that provides a linregress method to do the hard work for you. This returns (among other things) the coefficients you need for the slope equation - slope (m) and intercept (b) based on a given pair of variable samples you want to compare."
      ]
    },
    {
      "cell_type": "code",
      "metadata": {
        "id": "v5TzvghzvtkO"
      },
      "source": [
        "from scipy import stats\n",
        "\n",
        "#\n",
        "df_regression = df_sample[['Grade', 'StudyHours']].copy()\n",
        "\n",
        "# Get the regression slope and intercept\n",
        "m, b, r, p, se = stats.linregress(df_regression['StudyHours'], df_regression['Grade'])\n",
        "print('slope: {:.4f}\\ny-intercept: {:.4f}'.format(m,b))\n",
        "print('so...\\n f(x) = {:.4f}x + {:.4f}'.format(m,b))\n",
        "\n",
        "# Use the function (mx + b) to calculate f(x) for each x (StudyHours) value\n",
        "df_regression['fx'] = (m * df_regression['StudyHours']) + b\n",
        "\n",
        "# Calculate the error between f(x) and the actual y (Grade) value\n",
        "df_regression['error'] = df_regression['fx'] - df_regression['Grade']\n",
        "\n",
        "# Create a scatter plot of Grade vs Salary\n",
        "df_regression.plot.scatter(x='StudyHours', y='Grade')\n",
        "\n",
        "# Plot the regression line\n",
        "plt.plot(df_regression['StudyHours'],df_regression['fx'], color='cyan')\n",
        "\n",
        "# Display the plot\n",
        "plt.show()"
      ],
      "execution_count": null,
      "outputs": []
    },
    {
      "cell_type": "markdown",
      "metadata": {
        "id": "GB3NcIOIvyFM"
      },
      "source": [
        "Tenga en cuenta que esta vez, el código trazó dos cosas distintas: el diagrama de dispersión de las horas de estudio de muestra y las calificaciones se trazan como antes, y luego se traza una línea de mejor ajuste basada en los coeficientes de regresión de mínimos cuadrados.\n",
        "\n",
        "Los coeficientes de pendiente e intersección calculados para la línea de regresión se muestran encima del gráfico.\n",
        "\n",
        "La línea se basa en los valores f (x) calculados para cada valor de StudyHours. Ejecute la siguiente celda para ver una tabla que incluye los siguientes valores:\n",
        "\n",
        "Las horas de estudio para cada alumno.\n",
        "La nota obtenida por cada alumno.\n",
        "El valor de f (x) calculado utilizando los coeficientes de la línea de regresión.\n",
        "El error entre el valor calculado de f (x) y el valor real de la calificación.\n",
        "Algunos de los errores, particularmente en los extremos, y bastante grandes (hasta más de 17,5 puntos); pero en general, la línea se acerca bastante a las calificaciones reales."
      ]
    },
    {
      "cell_type": "code",
      "metadata": {
        "id": "MnuuUtN9vzsf"
      },
      "source": [
        "# Show the original x,y values, the f(x) value, and the error\n",
        "df_regression[['StudyHours', 'Grade', 'fx', 'error']]"
      ],
      "execution_count": null,
      "outputs": []
    },
    {
      "cell_type": "markdown",
      "metadata": {
        "id": "KTEiWcAIv1DK"
      },
      "source": [
        "**Usando los coeficientes de regresión para la predicción**"
      ]
    },
    {
      "cell_type": "markdown",
      "metadata": {
        "id": "zDxhY2Ozv4ah"
      },
      "source": [
        "Ahora que tiene los coeficientes de regresión para el tiempo de estudio y la relación de calificaciones, puede usarlos en una función para estimar la calificación esperada para una determinada cantidad de estudio."
      ]
    },
    {
      "cell_type": "code",
      "metadata": {
        "id": "4LfNh82wwBDe"
      },
      "source": [
        "# Define a function based on our regression coefficients\n",
        "def f(x):\n",
        "    m = 6.3134\n",
        "    b = -17.9164\n",
        "    return m*x + b\n",
        "\n",
        "study_time = 14\n",
        "\n",
        "# Get f(x) for study time\n",
        "prediction = f(study_time)\n",
        "\n",
        "# Grade can't be less than 0 or more than 100\n",
        "expected_grade = max(0,min(100,prediction))\n",
        "\n",
        "#Print the estimated grade\n",
        "print ('Studying for {} hours per week may result in a grade of {:.0f}'.format(study_time, expected_grade))"
      ],
      "execution_count": null,
      "outputs": []
    },
    {
      "cell_type": "markdown",
      "metadata": {
        "id": "vn79HN6pwEPi"
      },
      "source": [
        "Entonces, al aplicar estadísticas a los datos de muestra, ha determinado una relación entre el tiempo de estudio y la calificación; y encapsuló esa relación en una función general que puede usarse para predecir una calificación para una cantidad determinada de tiempo de estudio.\n",
        "\n",
        "Esta técnica es, de hecho, la premisa básica del aprendizaje automático. Puede tomar un conjunto de datos de muestra que incluye una o más características (en este caso, la cantidad de horas estudiadas) y un valor de etiqueta conocido (en este caso, la calificación obtenida) y usar los datos de muestra para derivar una función que calcule valores de etiqueta predichos para cualquier conjunto de características."
      ]
    },
    {
      "cell_type": "markdown",
      "metadata": {
        "id": "a2HIeXTPwkKF"
      },
      "source": [
        "# **Resumen**"
      ]
    },
    {
      "cell_type": "markdown",
      "metadata": {
        "id": "CPmhLfCywp5i"
      },
      "source": [
        "En este módulo, aprendió a usar Python para explorar, visualizar y manipular datos. La exploración de datos es el núcleo de la ciencia de datos y es un elemento clave en el análisis de datos y el aprendizaje automático.\n",
        "\n",
        "El aprendizaje automático es un subconjunto de la ciencia de datos que se ocupa del modelado predictivo. En otras palabras, el aprendizaje automático utiliza datos para crear modelos predictivos, con el fin de predecir valores desconocidos. Puede utilizar el aprendizaje automático para predecir cuánta comida necesita pedir un supermercado o para identificar plantas en fotografías.\n",
        "\n",
        "El aprendizaje automático funciona identificando relaciones entre los valores de los datos que describen las características de algo, sus características, como la altura y el color de una planta, y el valor que queremos predecir, la etiqueta, como la especie de planta. Estas relaciones se integran en un modelo a través de un proceso de formación."
      ]
    },
    {
      "cell_type": "markdown",
      "metadata": {
        "id": "lX2OMvJiwuKh"
      },
      "source": [
        "**Desafío: analizar datos de vuelo**"
      ]
    },
    {
      "cell_type": "markdown",
      "metadata": {
        "id": "mz9cVtbmwyXh"
      },
      "source": [
        "Si estos ejercicios de este módulo le han inspirado a intentar explorar los datos por sí mismo, ¿por qué no aceptar el desafío de un conjunto de datos del mundo real que contenga registros de vuelos del Departamento de Transporte de EE. UU.? ¡Encontrarás el desafío en el cuaderno 01 - Flights Challenge.ipynb!"
      ]
    }
  ]
}