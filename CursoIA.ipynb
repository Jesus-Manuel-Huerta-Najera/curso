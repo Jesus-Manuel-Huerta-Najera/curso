{
  "nbformat": 4,
  "nbformat_minor": 0,
  "metadata": {
    "colab": {
      "name": "CursoIA.ipynb",
      "provenance": [],
      "authorship_tag": "ABX9TyP/QQLBlMrCubNqm77DWQNE",
      "include_colab_link": true
    },
    "kernelspec": {
      "name": "python3",
      "display_name": "Python 3"
    },
    "language_info": {
      "name": "python"
    }
  },
  "cells": [
    {
      "cell_type": "markdown",
      "metadata": {
        "id": "view-in-github",
        "colab_type": "text"
      },
      "source": [
        "<a href=\"https://colab.research.google.com/github/Jesus-Manuel-Huerta-Najera/curso/blob/main/CursoIA.ipynb\" target=\"_parent\"><img src=\"https://colab.research.google.com/assets/colab-badge.svg\" alt=\"Open In Colab\"/></a>"
      ]
    },
    {
      "cell_type": "markdown",
      "metadata": {
        "id": "dnOxKIxpqute"
      },
      "source": [
        "Primeros pasos"
      ]
    },
    {
      "cell_type": "code",
      "metadata": {
        "id": "5_fHWy-Jp4zS"
      },
      "source": [
        ""
      ],
      "execution_count": null,
      "outputs": []
    }
  ]
}